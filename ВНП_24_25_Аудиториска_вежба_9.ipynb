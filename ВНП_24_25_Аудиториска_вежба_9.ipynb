{
 "cells": [
  {
   "cell_type": "code",
   "id": "initial_id",
   "metadata": {
    "collapsed": true,
    "ExecuteTime": {
     "end_time": "2024-12-18T16:56:41.155799Z",
     "start_time": "2024-12-18T16:56:37.346390Z"
    }
   },
   "source": [
    "import pandas as pd\n",
    "import seaborn as sns\n",
    "import matplotlib.pyplot as plt\n",
    "from sklearn.model_selection import train_test_split\n",
    "from sklearn.metrics import r2_score\n",
    "from sklearn.preprocessing import MinMaxScaler\n",
    "from keras.api.models import Sequential\n",
    "from keras.api.layers import Input, LSTM, Dense"
   ],
   "outputs": [],
   "execution_count": 1
  },
  {
   "metadata": {
    "ExecuteTime": {
     "end_time": "2024-12-18T16:56:43.928556Z",
     "start_time": "2024-12-18T16:56:41.155799Z"
    }
   },
   "cell_type": "code",
   "source": "df = pd.read_csv(\"data/prices-data.csv\")",
   "id": "ca036ceec94a90d1",
   "outputs": [],
   "execution_count": 2
  },
  {
   "metadata": {
    "ExecuteTime": {
     "end_time": "2024-12-18T16:56:44.090239Z",
     "start_time": "2024-12-18T16:56:44.068767Z"
    }
   },
   "cell_type": "code",
   "source": "df",
   "id": "9d2a9876610881f7",
   "outputs": [
    {
     "data": {
      "text/plain": [
       "          Timestamp      Open      High       Low     Close  Volume_(BTC)  \\\n",
       "0        1325317920      4.39      4.39      4.39      4.39      0.455581   \n",
       "1        1325317980       NaN       NaN       NaN       NaN           NaN   \n",
       "2        1325318040       NaN       NaN       NaN       NaN           NaN   \n",
       "3        1325318100       NaN       NaN       NaN       NaN           NaN   \n",
       "4        1325318160       NaN       NaN       NaN       NaN           NaN   \n",
       "...             ...       ...       ...       ...       ...           ...   \n",
       "4857372  1617148560  58714.31  58714.31  58686.00  58686.00      1.384487   \n",
       "4857373  1617148620  58683.97  58693.43  58683.97  58685.81      7.294848   \n",
       "4857374  1617148680  58693.43  58723.84  58693.43  58723.84      1.705682   \n",
       "4857375  1617148740  58742.18  58770.38  58742.18  58760.59      0.720415   \n",
       "4857376  1617148800  58767.75  58778.18  58755.97  58778.18      2.712831   \n",
       "\n",
       "         Volume_(Currency)  Weighted_Price  \n",
       "0                 2.000000        4.390000  \n",
       "1                      NaN             NaN  \n",
       "2                      NaN             NaN  \n",
       "3                      NaN             NaN  \n",
       "4                      NaN             NaN  \n",
       "...                    ...             ...  \n",
       "4857372       81259.372187    58692.753339  \n",
       "4857373      428158.146640    58693.226508  \n",
       "4857374      100117.070370    58696.198496  \n",
       "4857375       42332.958633    58761.866202  \n",
       "4857376      159417.751000    58764.349363  \n",
       "\n",
       "[4857377 rows x 8 columns]"
      ],
      "text/html": [
       "<div>\n",
       "<style scoped>\n",
       "    .dataframe tbody tr th:only-of-type {\n",
       "        vertical-align: middle;\n",
       "    }\n",
       "\n",
       "    .dataframe tbody tr th {\n",
       "        vertical-align: top;\n",
       "    }\n",
       "\n",
       "    .dataframe thead th {\n",
       "        text-align: right;\n",
       "    }\n",
       "</style>\n",
       "<table border=\"1\" class=\"dataframe\">\n",
       "  <thead>\n",
       "    <tr style=\"text-align: right;\">\n",
       "      <th></th>\n",
       "      <th>Timestamp</th>\n",
       "      <th>Open</th>\n",
       "      <th>High</th>\n",
       "      <th>Low</th>\n",
       "      <th>Close</th>\n",
       "      <th>Volume_(BTC)</th>\n",
       "      <th>Volume_(Currency)</th>\n",
       "      <th>Weighted_Price</th>\n",
       "    </tr>\n",
       "  </thead>\n",
       "  <tbody>\n",
       "    <tr>\n",
       "      <th>0</th>\n",
       "      <td>1325317920</td>\n",
       "      <td>4.39</td>\n",
       "      <td>4.39</td>\n",
       "      <td>4.39</td>\n",
       "      <td>4.39</td>\n",
       "      <td>0.455581</td>\n",
       "      <td>2.000000</td>\n",
       "      <td>4.390000</td>\n",
       "    </tr>\n",
       "    <tr>\n",
       "      <th>1</th>\n",
       "      <td>1325317980</td>\n",
       "      <td>NaN</td>\n",
       "      <td>NaN</td>\n",
       "      <td>NaN</td>\n",
       "      <td>NaN</td>\n",
       "      <td>NaN</td>\n",
       "      <td>NaN</td>\n",
       "      <td>NaN</td>\n",
       "    </tr>\n",
       "    <tr>\n",
       "      <th>2</th>\n",
       "      <td>1325318040</td>\n",
       "      <td>NaN</td>\n",
       "      <td>NaN</td>\n",
       "      <td>NaN</td>\n",
       "      <td>NaN</td>\n",
       "      <td>NaN</td>\n",
       "      <td>NaN</td>\n",
       "      <td>NaN</td>\n",
       "    </tr>\n",
       "    <tr>\n",
       "      <th>3</th>\n",
       "      <td>1325318100</td>\n",
       "      <td>NaN</td>\n",
       "      <td>NaN</td>\n",
       "      <td>NaN</td>\n",
       "      <td>NaN</td>\n",
       "      <td>NaN</td>\n",
       "      <td>NaN</td>\n",
       "      <td>NaN</td>\n",
       "    </tr>\n",
       "    <tr>\n",
       "      <th>4</th>\n",
       "      <td>1325318160</td>\n",
       "      <td>NaN</td>\n",
       "      <td>NaN</td>\n",
       "      <td>NaN</td>\n",
       "      <td>NaN</td>\n",
       "      <td>NaN</td>\n",
       "      <td>NaN</td>\n",
       "      <td>NaN</td>\n",
       "    </tr>\n",
       "    <tr>\n",
       "      <th>...</th>\n",
       "      <td>...</td>\n",
       "      <td>...</td>\n",
       "      <td>...</td>\n",
       "      <td>...</td>\n",
       "      <td>...</td>\n",
       "      <td>...</td>\n",
       "      <td>...</td>\n",
       "      <td>...</td>\n",
       "    </tr>\n",
       "    <tr>\n",
       "      <th>4857372</th>\n",
       "      <td>1617148560</td>\n",
       "      <td>58714.31</td>\n",
       "      <td>58714.31</td>\n",
       "      <td>58686.00</td>\n",
       "      <td>58686.00</td>\n",
       "      <td>1.384487</td>\n",
       "      <td>81259.372187</td>\n",
       "      <td>58692.753339</td>\n",
       "    </tr>\n",
       "    <tr>\n",
       "      <th>4857373</th>\n",
       "      <td>1617148620</td>\n",
       "      <td>58683.97</td>\n",
       "      <td>58693.43</td>\n",
       "      <td>58683.97</td>\n",
       "      <td>58685.81</td>\n",
       "      <td>7.294848</td>\n",
       "      <td>428158.146640</td>\n",
       "      <td>58693.226508</td>\n",
       "    </tr>\n",
       "    <tr>\n",
       "      <th>4857374</th>\n",
       "      <td>1617148680</td>\n",
       "      <td>58693.43</td>\n",
       "      <td>58723.84</td>\n",
       "      <td>58693.43</td>\n",
       "      <td>58723.84</td>\n",
       "      <td>1.705682</td>\n",
       "      <td>100117.070370</td>\n",
       "      <td>58696.198496</td>\n",
       "    </tr>\n",
       "    <tr>\n",
       "      <th>4857375</th>\n",
       "      <td>1617148740</td>\n",
       "      <td>58742.18</td>\n",
       "      <td>58770.38</td>\n",
       "      <td>58742.18</td>\n",
       "      <td>58760.59</td>\n",
       "      <td>0.720415</td>\n",
       "      <td>42332.958633</td>\n",
       "      <td>58761.866202</td>\n",
       "    </tr>\n",
       "    <tr>\n",
       "      <th>4857376</th>\n",
       "      <td>1617148800</td>\n",
       "      <td>58767.75</td>\n",
       "      <td>58778.18</td>\n",
       "      <td>58755.97</td>\n",
       "      <td>58778.18</td>\n",
       "      <td>2.712831</td>\n",
       "      <td>159417.751000</td>\n",
       "      <td>58764.349363</td>\n",
       "    </tr>\n",
       "  </tbody>\n",
       "</table>\n",
       "<p>4857377 rows × 8 columns</p>\n",
       "</div>"
      ]
     },
     "execution_count": 3,
     "metadata": {},
     "output_type": "execute_result"
    }
   ],
   "execution_count": 3
  },
  {
   "metadata": {
    "ExecuteTime": {
     "end_time": "2024-12-18T16:56:44.587223Z",
     "start_time": "2024-12-18T16:56:44.142661Z"
    }
   },
   "cell_type": "code",
   "source": "df[\"Timestamp\"] = pd.to_datetime(df[\"Timestamp\"], unit=\"s\")",
   "id": "c08ce6d37d527da7",
   "outputs": [],
   "execution_count": 4
  },
  {
   "metadata": {
    "ExecuteTime": {
     "end_time": "2024-12-18T16:56:44.665503Z",
     "start_time": "2024-12-18T16:56:44.644662Z"
    }
   },
   "cell_type": "code",
   "source": "df",
   "id": "80b1c5fab7eb5cc1",
   "outputs": [
    {
     "data": {
      "text/plain": [
       "                  Timestamp      Open      High       Low     Close  \\\n",
       "0       2011-12-31 07:52:00      4.39      4.39      4.39      4.39   \n",
       "1       2011-12-31 07:53:00       NaN       NaN       NaN       NaN   \n",
       "2       2011-12-31 07:54:00       NaN       NaN       NaN       NaN   \n",
       "3       2011-12-31 07:55:00       NaN       NaN       NaN       NaN   \n",
       "4       2011-12-31 07:56:00       NaN       NaN       NaN       NaN   \n",
       "...                     ...       ...       ...       ...       ...   \n",
       "4857372 2021-03-30 23:56:00  58714.31  58714.31  58686.00  58686.00   \n",
       "4857373 2021-03-30 23:57:00  58683.97  58693.43  58683.97  58685.81   \n",
       "4857374 2021-03-30 23:58:00  58693.43  58723.84  58693.43  58723.84   \n",
       "4857375 2021-03-30 23:59:00  58742.18  58770.38  58742.18  58760.59   \n",
       "4857376 2021-03-31 00:00:00  58767.75  58778.18  58755.97  58778.18   \n",
       "\n",
       "         Volume_(BTC)  Volume_(Currency)  Weighted_Price  \n",
       "0            0.455581           2.000000        4.390000  \n",
       "1                 NaN                NaN             NaN  \n",
       "2                 NaN                NaN             NaN  \n",
       "3                 NaN                NaN             NaN  \n",
       "4                 NaN                NaN             NaN  \n",
       "...               ...                ...             ...  \n",
       "4857372      1.384487       81259.372187    58692.753339  \n",
       "4857373      7.294848      428158.146640    58693.226508  \n",
       "4857374      1.705682      100117.070370    58696.198496  \n",
       "4857375      0.720415       42332.958633    58761.866202  \n",
       "4857376      2.712831      159417.751000    58764.349363  \n",
       "\n",
       "[4857377 rows x 8 columns]"
      ],
      "text/html": [
       "<div>\n",
       "<style scoped>\n",
       "    .dataframe tbody tr th:only-of-type {\n",
       "        vertical-align: middle;\n",
       "    }\n",
       "\n",
       "    .dataframe tbody tr th {\n",
       "        vertical-align: top;\n",
       "    }\n",
       "\n",
       "    .dataframe thead th {\n",
       "        text-align: right;\n",
       "    }\n",
       "</style>\n",
       "<table border=\"1\" class=\"dataframe\">\n",
       "  <thead>\n",
       "    <tr style=\"text-align: right;\">\n",
       "      <th></th>\n",
       "      <th>Timestamp</th>\n",
       "      <th>Open</th>\n",
       "      <th>High</th>\n",
       "      <th>Low</th>\n",
       "      <th>Close</th>\n",
       "      <th>Volume_(BTC)</th>\n",
       "      <th>Volume_(Currency)</th>\n",
       "      <th>Weighted_Price</th>\n",
       "    </tr>\n",
       "  </thead>\n",
       "  <tbody>\n",
       "    <tr>\n",
       "      <th>0</th>\n",
       "      <td>2011-12-31 07:52:00</td>\n",
       "      <td>4.39</td>\n",
       "      <td>4.39</td>\n",
       "      <td>4.39</td>\n",
       "      <td>4.39</td>\n",
       "      <td>0.455581</td>\n",
       "      <td>2.000000</td>\n",
       "      <td>4.390000</td>\n",
       "    </tr>\n",
       "    <tr>\n",
       "      <th>1</th>\n",
       "      <td>2011-12-31 07:53:00</td>\n",
       "      <td>NaN</td>\n",
       "      <td>NaN</td>\n",
       "      <td>NaN</td>\n",
       "      <td>NaN</td>\n",
       "      <td>NaN</td>\n",
       "      <td>NaN</td>\n",
       "      <td>NaN</td>\n",
       "    </tr>\n",
       "    <tr>\n",
       "      <th>2</th>\n",
       "      <td>2011-12-31 07:54:00</td>\n",
       "      <td>NaN</td>\n",
       "      <td>NaN</td>\n",
       "      <td>NaN</td>\n",
       "      <td>NaN</td>\n",
       "      <td>NaN</td>\n",
       "      <td>NaN</td>\n",
       "      <td>NaN</td>\n",
       "    </tr>\n",
       "    <tr>\n",
       "      <th>3</th>\n",
       "      <td>2011-12-31 07:55:00</td>\n",
       "      <td>NaN</td>\n",
       "      <td>NaN</td>\n",
       "      <td>NaN</td>\n",
       "      <td>NaN</td>\n",
       "      <td>NaN</td>\n",
       "      <td>NaN</td>\n",
       "      <td>NaN</td>\n",
       "    </tr>\n",
       "    <tr>\n",
       "      <th>4</th>\n",
       "      <td>2011-12-31 07:56:00</td>\n",
       "      <td>NaN</td>\n",
       "      <td>NaN</td>\n",
       "      <td>NaN</td>\n",
       "      <td>NaN</td>\n",
       "      <td>NaN</td>\n",
       "      <td>NaN</td>\n",
       "      <td>NaN</td>\n",
       "    </tr>\n",
       "    <tr>\n",
       "      <th>...</th>\n",
       "      <td>...</td>\n",
       "      <td>...</td>\n",
       "      <td>...</td>\n",
       "      <td>...</td>\n",
       "      <td>...</td>\n",
       "      <td>...</td>\n",
       "      <td>...</td>\n",
       "      <td>...</td>\n",
       "    </tr>\n",
       "    <tr>\n",
       "      <th>4857372</th>\n",
       "      <td>2021-03-30 23:56:00</td>\n",
       "      <td>58714.31</td>\n",
       "      <td>58714.31</td>\n",
       "      <td>58686.00</td>\n",
       "      <td>58686.00</td>\n",
       "      <td>1.384487</td>\n",
       "      <td>81259.372187</td>\n",
       "      <td>58692.753339</td>\n",
       "    </tr>\n",
       "    <tr>\n",
       "      <th>4857373</th>\n",
       "      <td>2021-03-30 23:57:00</td>\n",
       "      <td>58683.97</td>\n",
       "      <td>58693.43</td>\n",
       "      <td>58683.97</td>\n",
       "      <td>58685.81</td>\n",
       "      <td>7.294848</td>\n",
       "      <td>428158.146640</td>\n",
       "      <td>58693.226508</td>\n",
       "    </tr>\n",
       "    <tr>\n",
       "      <th>4857374</th>\n",
       "      <td>2021-03-30 23:58:00</td>\n",
       "      <td>58693.43</td>\n",
       "      <td>58723.84</td>\n",
       "      <td>58693.43</td>\n",
       "      <td>58723.84</td>\n",
       "      <td>1.705682</td>\n",
       "      <td>100117.070370</td>\n",
       "      <td>58696.198496</td>\n",
       "    </tr>\n",
       "    <tr>\n",
       "      <th>4857375</th>\n",
       "      <td>2021-03-30 23:59:00</td>\n",
       "      <td>58742.18</td>\n",
       "      <td>58770.38</td>\n",
       "      <td>58742.18</td>\n",
       "      <td>58760.59</td>\n",
       "      <td>0.720415</td>\n",
       "      <td>42332.958633</td>\n",
       "      <td>58761.866202</td>\n",
       "    </tr>\n",
       "    <tr>\n",
       "      <th>4857376</th>\n",
       "      <td>2021-03-31 00:00:00</td>\n",
       "      <td>58767.75</td>\n",
       "      <td>58778.18</td>\n",
       "      <td>58755.97</td>\n",
       "      <td>58778.18</td>\n",
       "      <td>2.712831</td>\n",
       "      <td>159417.751000</td>\n",
       "      <td>58764.349363</td>\n",
       "    </tr>\n",
       "  </tbody>\n",
       "</table>\n",
       "<p>4857377 rows × 8 columns</p>\n",
       "</div>"
      ]
     },
     "execution_count": 5,
     "metadata": {},
     "output_type": "execute_result"
    }
   ],
   "execution_count": 5
  },
  {
   "metadata": {
    "ExecuteTime": {
     "end_time": "2024-12-18T16:56:44.773344Z",
     "start_time": "2024-12-18T16:56:44.765583Z"
    }
   },
   "cell_type": "code",
   "source": "df.set_index(keys=[\"Timestamp\"], inplace=True)",
   "id": "b390457980e40374",
   "outputs": [],
   "execution_count": 6
  },
  {
   "metadata": {
    "ExecuteTime": {
     "end_time": "2024-12-18T16:56:44.881151Z",
     "start_time": "2024-12-18T16:56:44.858340Z"
    }
   },
   "cell_type": "code",
   "source": "df.sort_index(inplace=True)",
   "id": "394736e5480a30c4",
   "outputs": [],
   "execution_count": 7
  },
  {
   "metadata": {
    "ExecuteTime": {
     "end_time": "2024-12-18T16:56:44.987273Z",
     "start_time": "2024-12-18T16:56:44.978875Z"
    }
   },
   "cell_type": "code",
   "source": "df = df[\"2021-03-20 00:00:00\":].copy(deep=True)",
   "id": "16d3090eb6d6abc6",
   "outputs": [],
   "execution_count": 8
  },
  {
   "metadata": {
    "ExecuteTime": {
     "end_time": "2024-12-18T16:56:45.072787Z",
     "start_time": "2024-12-18T16:56:45.065661Z"
    }
   },
   "cell_type": "code",
   "source": "df.ffill(inplace=True)",
   "id": "df38222a189080a3",
   "outputs": [],
   "execution_count": 9
  },
  {
   "metadata": {
    "ExecuteTime": {
     "end_time": "2024-12-18T16:56:45.325309Z",
     "start_time": "2024-12-18T16:56:45.080859Z"
    }
   },
   "cell_type": "code",
   "source": [
    "plt.figure(figsize=(8, 6))\n",
    "sns.heatmap(df[[\"Open\", \"High\", \"Low\", \"Close\", \"Volume_(BTC)\", \"Volume_(Currency)\", \"Weighted_Price\"]].corr(), annot=True, fmt='.2f', linewidths=2)\n",
    "plt.show()"
   ],
   "id": "969e4520d086a50b",
   "outputs": [
    {
     "data": {
      "text/plain": [
       "<Figure size 800x600 with 2 Axes>"
      ],
      "image/png": "[encoded data removed]"
     },
     "metadata": {},
     "output_type": "display_data"
    }
   ],
   "execution_count": 10
  },
  {
   "metadata": {
    "ExecuteTime": {
     "end_time": "2024-12-18T16:56:45.343985Z",
     "start_time": "2024-12-18T16:56:45.336735Z"
    }
   },
   "cell_type": "code",
   "source": "df = df[[\"Close\"]].copy()",
   "id": "b263e8cd976916cc",
   "outputs": [],
   "execution_count": 11
  },
  {
   "metadata": {
    "ExecuteTime": {
     "end_time": "2024-12-18T16:56:45.370307Z",
     "start_time": "2024-12-18T16:56:45.358216Z"
    }
   },
   "cell_type": "code",
   "source": "df",
   "id": "e561c84cf2aca487",
   "outputs": [
    {
     "data": {
      "text/plain": [
       "                        Close\n",
       "Timestamp                    \n",
       "2021-03-20 00:00:00  57984.41\n",
       "2021-03-20 00:01:00  57898.50\n",
       "2021-03-20 00:02:00  57902.49\n",
       "2021-03-20 00:03:00  58093.58\n",
       "2021-03-20 00:04:00  58020.43\n",
       "...                       ...\n",
       "2021-03-30 23:56:00  58686.00\n",
       "2021-03-30 23:57:00  58685.81\n",
       "2021-03-30 23:58:00  58723.84\n",
       "2021-03-30 23:59:00  58760.59\n",
       "2021-03-31 00:00:00  58778.18\n",
       "\n",
       "[15841 rows x 1 columns]"
      ],
      "text/html": [
       "<div>\n",
       "<style scoped>\n",
       "    .dataframe tbody tr th:only-of-type {\n",
       "        vertical-align: middle;\n",
       "    }\n",
       "\n",
       "    .dataframe tbody tr th {\n",
       "        vertical-align: top;\n",
       "    }\n",
       "\n",
       "    .dataframe thead th {\n",
       "        text-align: right;\n",
       "    }\n",
       "</style>\n",
       "<table border=\"1\" class=\"dataframe\">\n",
       "  <thead>\n",
       "    <tr style=\"text-align: right;\">\n",
       "      <th></th>\n",
       "      <th>Close</th>\n",
       "    </tr>\n",
       "    <tr>\n",
       "      <th>Timestamp</th>\n",
       "      <th></th>\n",
       "    </tr>\n",
       "  </thead>\n",
       "  <tbody>\n",
       "    <tr>\n",
       "      <th>2021-03-20 00:00:00</th>\n",
       "      <td>57984.41</td>\n",
       "    </tr>\n",
       "    <tr>\n",
       "      <th>2021-03-20 00:01:00</th>\n",
       "      <td>57898.50</td>\n",
       "    </tr>\n",
       "    <tr>\n",
       "      <th>2021-03-20 00:02:00</th>\n",
       "      <td>57902.49</td>\n",
       "    </tr>\n",
       "    <tr>\n",
       "      <th>2021-03-20 00:03:00</th>\n",
       "      <td>58093.58</td>\n",
       "    </tr>\n",
       "    <tr>\n",
       "      <th>2021-03-20 00:04:00</th>\n",
       "      <td>58020.43</td>\n",
       "    </tr>\n",
       "    <tr>\n",
       "      <th>...</th>\n",
       "      <td>...</td>\n",
       "    </tr>\n",
       "    <tr>\n",
       "      <th>2021-03-30 23:56:00</th>\n",
       "      <td>58686.00</td>\n",
       "    </tr>\n",
       "    <tr>\n",
       "      <th>2021-03-30 23:57:00</th>\n",
       "      <td>58685.81</td>\n",
       "    </tr>\n",
       "    <tr>\n",
       "      <th>2021-03-30 23:58:00</th>\n",
       "      <td>58723.84</td>\n",
       "    </tr>\n",
       "    <tr>\n",
       "      <th>2021-03-30 23:59:00</th>\n",
       "      <td>58760.59</td>\n",
       "    </tr>\n",
       "    <tr>\n",
       "      <th>2021-03-31 00:00:00</th>\n",
       "      <td>58778.18</td>\n",
       "    </tr>\n",
       "  </tbody>\n",
       "</table>\n",
       "<p>15841 rows × 1 columns</p>\n",
       "</div>"
      ]
     },
     "execution_count": 12,
     "metadata": {},
     "output_type": "execute_result"
    }
   ],
   "execution_count": 12
  },
  {
   "metadata": {
    "ExecuteTime": {
     "end_time": "2024-12-18T16:56:45.426165Z",
     "start_time": "2024-12-18T16:56:45.418874Z"
    }
   },
   "cell_type": "code",
   "source": "lag = 3",
   "id": "e60066f89f092790",
   "outputs": [],
   "execution_count": 13
  },
  {
   "metadata": {
    "ExecuteTime": {
     "end_time": "2024-12-18T16:56:45.496857Z",
     "start_time": "2024-12-18T16:56:45.490363Z"
    }
   },
   "cell_type": "code",
   "source": "periods = range(lag, 0, -1) # 3, 2, 1",
   "id": "400ff6439964983a",
   "outputs": [],
   "execution_count": 14
  },
  {
   "metadata": {
    "ExecuteTime": {
     "end_time": "2024-12-18T16:56:45.563619Z",
     "start_time": "2024-12-18T16:56:45.549076Z"
    }
   },
   "cell_type": "code",
   "source": "df",
   "id": "9b01873689e7e69a",
   "outputs": [
    {
     "data": {
      "text/plain": [
       "                        Close\n",
       "Timestamp                    \n",
       "2021-03-20 00:00:00  57984.41\n",
       "2021-03-20 00:01:00  57898.50\n",
       "2021-03-20 00:02:00  57902.49\n",
       "2021-03-20 00:03:00  58093.58\n",
       "2021-03-20 00:04:00  58020.43\n",
       "...                       ...\n",
       "2021-03-30 23:56:00  58686.00\n",
       "2021-03-30 23:57:00  58685.81\n",
       "2021-03-30 23:58:00  58723.84\n",
       "2021-03-30 23:59:00  58760.59\n",
       "2021-03-31 00:00:00  58778.18\n",
       "\n",
       "[15841 rows x 1 columns]"
      ],
      "text/html": [
       "<div>\n",
       "<style scoped>\n",
       "    .dataframe tbody tr th:only-of-type {\n",
       "        vertical-align: middle;\n",
       "    }\n",
       "\n",
       "    .dataframe tbody tr th {\n",
       "        vertical-align: top;\n",
       "    }\n",
       "\n",
       "    .dataframe thead th {\n",
       "        text-align: right;\n",
       "    }\n",
       "</style>\n",
       "<table border=\"1\" class=\"dataframe\">\n",
       "  <thead>\n",
       "    <tr style=\"text-align: right;\">\n",
       "      <th></th>\n",
       "      <th>Close</th>\n",
       "    </tr>\n",
       "    <tr>\n",
       "      <th>Timestamp</th>\n",
       "      <th></th>\n",
       "    </tr>\n",
       "  </thead>\n",
       "  <tbody>\n",
       "    <tr>\n",
       "      <th>2021-03-20 00:00:00</th>\n",
       "      <td>57984.41</td>\n",
       "    </tr>\n",
       "    <tr>\n",
       "      <th>2021-03-20 00:01:00</th>\n",
       "      <td>57898.50</td>\n",
       "    </tr>\n",
       "    <tr>\n",
       "      <th>2021-03-20 00:02:00</th>\n",
       "      <td>57902.49</td>\n",
       "    </tr>\n",
       "    <tr>\n",
       "      <th>2021-03-20 00:03:00</th>\n",
       "      <td>58093.58</td>\n",
       "    </tr>\n",
       "    <tr>\n",
       "      <th>2021-03-20 00:04:00</th>\n",
       "      <td>58020.43</td>\n",
       "    </tr>\n",
       "    <tr>\n",
       "      <th>...</th>\n",
       "      <td>...</td>\n",
       "    </tr>\n",
       "    <tr>\n",
       "      <th>2021-03-30 23:56:00</th>\n",
       "      <td>58686.00</td>\n",
       "    </tr>\n",
       "    <tr>\n",
       "      <th>2021-03-30 23:57:00</th>\n",
       "      <td>58685.81</td>\n",
       "    </tr>\n",
       "    <tr>\n",
       "      <th>2021-03-30 23:58:00</th>\n",
       "      <td>58723.84</td>\n",
       "    </tr>\n",
       "    <tr>\n",
       "      <th>2021-03-30 23:59:00</th>\n",
       "      <td>58760.59</td>\n",
       "    </tr>\n",
       "    <tr>\n",
       "      <th>2021-03-31 00:00:00</th>\n",
       "      <td>58778.18</td>\n",
       "    </tr>\n",
       "  </tbody>\n",
       "</table>\n",
       "<p>15841 rows × 1 columns</p>\n",
       "</div>"
      ]
     },
     "execution_count": 15,
     "metadata": {},
     "output_type": "execute_result"
    }
   ],
   "execution_count": 15
  },
  {
   "metadata": {
    "ExecuteTime": {
     "end_time": "2024-12-18T16:56:45.676377Z",
     "start_time": "2024-12-18T16:56:45.656319Z"
    }
   },
   "cell_type": "code",
   "source": "df.shift(periods=periods)",
   "id": "58b00a0a4faa6c68",
   "outputs": [
    {
     "data": {
      "text/plain": [
       "                      Close_3   Close_2   Close_1\n",
       "Timestamp                                        \n",
       "2021-03-20 00:00:00       NaN       NaN       NaN\n",
       "2021-03-20 00:01:00       NaN       NaN  57984.41\n",
       "2021-03-20 00:02:00       NaN  57984.41  57898.50\n",
       "2021-03-20 00:03:00  57984.41  57898.50  57902.49\n",
       "2021-03-20 00:04:00  57898.50  57902.49  58093.58\n",
       "...                       ...       ...       ...\n",
       "2021-03-30 23:56:00  58698.50  58739.95  58714.31\n",
       "2021-03-30 23:57:00  58739.95  58714.31  58686.00\n",
       "2021-03-30 23:58:00  58714.31  58686.00  58685.81\n",
       "2021-03-30 23:59:00  58686.00  58685.81  58723.84\n",
       "2021-03-31 00:00:00  58685.81  58723.84  58760.59\n",
       "\n",
       "[15841 rows x 3 columns]"
      ],
      "text/html": [
       "<div>\n",
       "<style scoped>\n",
       "    .dataframe tbody tr th:only-of-type {\n",
       "        vertical-align: middle;\n",
       "    }\n",
       "\n",
       "    .dataframe tbody tr th {\n",
       "        vertical-align: top;\n",
       "    }\n",
       "\n",
       "    .dataframe thead th {\n",
       "        text-align: right;\n",
       "    }\n",
       "</style>\n",
       "<table border=\"1\" class=\"dataframe\">\n",
       "  <thead>\n",
       "    <tr style=\"text-align: right;\">\n",
       "      <th></th>\n",
       "      <th>Close_3</th>\n",
       "      <th>Close_2</th>\n",
       "      <th>Close_1</th>\n",
       "    </tr>\n",
       "    <tr>\n",
       "      <th>Timestamp</th>\n",
       "      <th></th>\n",
       "      <th></th>\n",
       "      <th></th>\n",
       "    </tr>\n",
       "  </thead>\n",
       "  <tbody>\n",
       "    <tr>\n",
       "      <th>2021-03-20 00:00:00</th>\n",
       "      <td>NaN</td>\n",
       "      <td>NaN</td>\n",
       "      <td>NaN</td>\n",
       "    </tr>\n",
       "    <tr>\n",
       "      <th>2021-03-20 00:01:00</th>\n",
       "      <td>NaN</td>\n",
       "      <td>NaN</td>\n",
       "      <td>57984.41</td>\n",
       "    </tr>\n",
       "    <tr>\n",
       "      <th>2021-03-20 00:02:00</th>\n",
       "      <td>NaN</td>\n",
       "      <td>57984.41</td>\n",
       "      <td>57898.50</td>\n",
       "    </tr>\n",
       "    <tr>\n",
       "      <th>2021-03-20 00:03:00</th>\n",
       "      <td>57984.41</td>\n",
       "      <td>57898.50</td>\n",
       "      <td>57902.49</td>\n",
       "    </tr>\n",
       "    <tr>\n",
       "      <th>2021-03-20 00:04:00</th>\n",
       "      <td>57898.50</td>\n",
       "      <td>57902.49</td>\n",
       "      <td>58093.58</td>\n",
       "    </tr>\n",
       "    <tr>\n",
       "      <th>...</th>\n",
       "      <td>...</td>\n",
       "      <td>...</td>\n",
       "      <td>...</td>\n",
       "    </tr>\n",
       "    <tr>\n",
       "      <th>2021-03-30 23:56:00</th>\n",
       "      <td>58698.50</td>\n",
       "      <td>58739.95</td>\n",
       "      <td>58714.31</td>\n",
       "    </tr>\n",
       "    <tr>\n",
       "      <th>2021-03-30 23:57:00</th>\n",
       "      <td>58739.95</td>\n",
       "      <td>58714.31</td>\n",
       "      <td>58686.00</td>\n",
       "    </tr>\n",
       "    <tr>\n",
       "      <th>2021-03-30 23:58:00</th>\n",
       "      <td>58714.31</td>\n",
       "      <td>58686.00</td>\n",
       "      <td>58685.81</td>\n",
       "    </tr>\n",
       "    <tr>\n",
       "      <th>2021-03-30 23:59:00</th>\n",
       "      <td>58686.00</td>\n",
       "      <td>58685.81</td>\n",
       "      <td>58723.84</td>\n",
       "    </tr>\n",
       "    <tr>\n",
       "      <th>2021-03-31 00:00:00</th>\n",
       "      <td>58685.81</td>\n",
       "      <td>58723.84</td>\n",
       "      <td>58760.59</td>\n",
       "    </tr>\n",
       "  </tbody>\n",
       "</table>\n",
       "<p>15841 rows × 3 columns</p>\n",
       "</div>"
      ]
     },
     "execution_count": 16,
     "metadata": {},
     "output_type": "execute_result"
    }
   ],
   "execution_count": 16
  },
  {
   "metadata": {
    "ExecuteTime": {
     "end_time": "2024-12-18T16:56:45.764108Z",
     "start_time": "2024-12-18T16:56:45.753975Z"
    }
   },
   "cell_type": "code",
   "source": "list(periods)",
   "id": "c99852e094f5dd83",
   "outputs": [
    {
     "data": {
      "text/plain": [
       "[3, 2, 1]"
      ]
     },
     "execution_count": 17,
     "metadata": {},
     "output_type": "execute_result"
    }
   ],
   "execution_count": 17
  },
  {
   "metadata": {
    "ExecuteTime": {
     "end_time": "2024-12-18T16:56:45.898886Z",
     "start_time": "2024-12-18T16:56:45.889669Z"
    }
   },
   "cell_type": "code",
   "source": "df = pd.concat([df, df.shift(periods=periods)], axis=1)",
   "id": "1323500d29fc6fd9",
   "outputs": [],
   "execution_count": 18
  },
  {
   "metadata": {
    "ExecuteTime": {
     "end_time": "2024-12-18T16:56:46.005434Z",
     "start_time": "2024-12-18T16:56:45.989534Z"
    }
   },
   "cell_type": "code",
   "source": "df",
   "id": "9419195cae4e4b3d",
   "outputs": [
    {
     "data": {
      "text/plain": [
       "                        Close   Close_3   Close_2   Close_1\n",
       "Timestamp                                                  \n",
       "2021-03-20 00:00:00  57984.41       NaN       NaN       NaN\n",
       "2021-03-20 00:01:00  57898.50       NaN       NaN  57984.41\n",
       "2021-03-20 00:02:00  57902.49       NaN  57984.41  57898.50\n",
       "2021-03-20 00:03:00  58093.58  57984.41  57898.50  57902.49\n",
       "2021-03-20 00:04:00  58020.43  57898.50  57902.49  58093.58\n",
       "...                       ...       ...       ...       ...\n",
       "2021-03-30 23:56:00  58686.00  58698.50  58739.95  58714.31\n",
       "2021-03-30 23:57:00  58685.81  58739.95  58714.31  58686.00\n",
       "2021-03-30 23:58:00  58723.84  58714.31  58686.00  58685.81\n",
       "2021-03-30 23:59:00  58760.59  58686.00  58685.81  58723.84\n",
       "2021-03-31 00:00:00  58778.18  58685.81  58723.84  58760.59\n",
       "\n",
       "[15841 rows x 4 columns]"
      ],
      "text/html": [
       "<div>\n",
       "<style scoped>\n",
       "    .dataframe tbody tr th:only-of-type {\n",
       "        vertical-align: middle;\n",
       "    }\n",
       "\n",
       "    .dataframe tbody tr th {\n",
       "        vertical-align: top;\n",
       "    }\n",
       "\n",
       "    .dataframe thead th {\n",
       "        text-align: right;\n",
       "    }\n",
       "</style>\n",
       "<table border=\"1\" class=\"dataframe\">\n",
       "  <thead>\n",
       "    <tr style=\"text-align: right;\">\n",
       "      <th></th>\n",
       "      <th>Close</th>\n",
       "      <th>Close_3</th>\n",
       "      <th>Close_2</th>\n",
       "      <th>Close_1</th>\n",
       "    </tr>\n",
       "    <tr>\n",
       "      <th>Timestamp</th>\n",
       "      <th></th>\n",
       "      <th></th>\n",
       "      <th></th>\n",
       "      <th></th>\n",
       "    </tr>\n",
       "  </thead>\n",
       "  <tbody>\n",
       "    <tr>\n",
       "      <th>2021-03-20 00:00:00</th>\n",
       "      <td>57984.41</td>\n",
       "      <td>NaN</td>\n",
       "      <td>NaN</td>\n",
       "      <td>NaN</td>\n",
       "    </tr>\n",
       "    <tr>\n",
       "      <th>2021-03-20 00:01:00</th>\n",
       "      <td>57898.50</td>\n",
       "      <td>NaN</td>\n",
       "      <td>NaN</td>\n",
       "      <td>57984.41</td>\n",
       "    </tr>\n",
       "    <tr>\n",
       "      <th>2021-03-20 00:02:00</th>\n",
       "      <td>57902.49</td>\n",
       "      <td>NaN</td>\n",
       "      <td>57984.41</td>\n",
       "      <td>57898.50</td>\n",
       "    </tr>\n",
       "    <tr>\n",
       "      <th>2021-03-20 00:03:00</th>\n",
       "      <td>58093.58</td>\n",
       "      <td>57984.41</td>\n",
       "      <td>57898.50</td>\n",
       "      <td>57902.49</td>\n",
       "    </tr>\n",
       "    <tr>\n",
       "      <th>2021-03-20 00:04:00</th>\n",
       "      <td>58020.43</td>\n",
       "      <td>57898.50</td>\n",
       "      <td>57902.49</td>\n",
       "      <td>58093.58</td>\n",
       "    </tr>\n",
       "    <tr>\n",
       "      <th>...</th>\n",
       "      <td>...</td>\n",
       "      <td>...</td>\n",
       "      <td>...</td>\n",
       "      <td>...</td>\n",
       "    </tr>\n",
       "    <tr>\n",
       "      <th>2021-03-30 23:56:00</th>\n",
       "      <td>58686.00</td>\n",
       "      <td>58698.50</td>\n",
       "      <td>58739.95</td>\n",
       "      <td>58714.31</td>\n",
       "    </tr>\n",
       "    <tr>\n",
       "      <th>2021-03-30 23:57:00</th>\n",
       "      <td>58685.81</td>\n",
       "      <td>58739.95</td>\n",
       "      <td>58714.31</td>\n",
       "      <td>58686.00</td>\n",
       "    </tr>\n",
       "    <tr>\n",
       "      <th>2021-03-30 23:58:00</th>\n",
       "      <td>58723.84</td>\n",
       "      <td>58714.31</td>\n",
       "      <td>58686.00</td>\n",
       "      <td>58685.81</td>\n",
       "    </tr>\n",
       "    <tr>\n",
       "      <th>2021-03-30 23:59:00</th>\n",
       "      <td>58760.59</td>\n",
       "      <td>58686.00</td>\n",
       "      <td>58685.81</td>\n",
       "      <td>58723.84</td>\n",
       "    </tr>\n",
       "    <tr>\n",
       "      <th>2021-03-31 00:00:00</th>\n",
       "      <td>58778.18</td>\n",
       "      <td>58685.81</td>\n",
       "      <td>58723.84</td>\n",
       "      <td>58760.59</td>\n",
       "    </tr>\n",
       "  </tbody>\n",
       "</table>\n",
       "<p>15841 rows × 4 columns</p>\n",
       "</div>"
      ]
     },
     "execution_count": 19,
     "metadata": {},
     "output_type": "execute_result"
    }
   ],
   "execution_count": 19
  },
  {
   "metadata": {
    "ExecuteTime": {
     "end_time": "2024-12-18T16:56:46.117446Z",
     "start_time": "2024-12-18T16:56:46.109285Z"
    }
   },
   "cell_type": "code",
   "source": "df.dropna(axis=0, inplace=True)",
   "id": "619468a348c2679e",
   "outputs": [],
   "execution_count": 20
  },
  {
   "metadata": {
    "ExecuteTime": {
     "end_time": "2024-12-18T16:56:46.200809Z",
     "start_time": "2024-12-18T16:56:46.187725Z"
    }
   },
   "cell_type": "code",
   "source": "df",
   "id": "37388c16b0edd39",
   "outputs": [
    {
     "data": {
      "text/plain": [
       "                        Close   Close_3   Close_2   Close_1\n",
       "Timestamp                                                  \n",
       "2021-03-20 00:03:00  58093.58  57984.41  57898.50  57902.49\n",
       "2021-03-20 00:04:00  58020.43  57898.50  57902.49  58093.58\n",
       "2021-03-20 00:05:00  57942.98  57902.49  58093.58  58020.43\n",
       "2021-03-20 00:06:00  57970.36  58093.58  58020.43  57942.98\n",
       "2021-03-20 00:07:00  57944.74  58020.43  57942.98  57970.36\n",
       "...                       ...       ...       ...       ...\n",
       "2021-03-30 23:56:00  58686.00  58698.50  58739.95  58714.31\n",
       "2021-03-30 23:57:00  58685.81  58739.95  58714.31  58686.00\n",
       "2021-03-30 23:58:00  58723.84  58714.31  58686.00  58685.81\n",
       "2021-03-30 23:59:00  58760.59  58686.00  58685.81  58723.84\n",
       "2021-03-31 00:00:00  58778.18  58685.81  58723.84  58760.59\n",
       "\n",
       "[15838 rows x 4 columns]"
      ],
      "text/html": [
       "<div>\n",
       "<style scoped>\n",
       "    .dataframe tbody tr th:only-of-type {\n",
       "        vertical-align: middle;\n",
       "    }\n",
       "\n",
       "    .dataframe tbody tr th {\n",
       "        vertical-align: top;\n",
       "    }\n",
       "\n",
       "    .dataframe thead th {\n",
       "        text-align: right;\n",
       "    }\n",
       "</style>\n",
       "<table border=\"1\" class=\"dataframe\">\n",
       "  <thead>\n",
       "    <tr style=\"text-align: right;\">\n",
       "      <th></th>\n",
       "      <th>Close</th>\n",
       "      <th>Close_3</th>\n",
       "      <th>Close_2</th>\n",
       "      <th>Close_1</th>\n",
       "    </tr>\n",
       "    <tr>\n",
       "      <th>Timestamp</th>\n",
       "      <th></th>\n",
       "      <th></th>\n",
       "      <th></th>\n",
       "      <th></th>\n",
       "    </tr>\n",
       "  </thead>\n",
       "  <tbody>\n",
       "    <tr>\n",
       "      <th>2021-03-20 00:03:00</th>\n",
       "      <td>58093.58</td>\n",
       "      <td>57984.41</td>\n",
       "      <td>57898.50</td>\n",
       "      <td>57902.49</td>\n",
       "    </tr>\n",
       "    <tr>\n",
       "      <th>2021-03-20 00:04:00</th>\n",
       "      <td>58020.43</td>\n",
       "      <td>57898.50</td>\n",
       "      <td>57902.49</td>\n",
       "      <td>58093.58</td>\n",
       "    </tr>\n",
       "    <tr>\n",
       "      <th>2021-03-20 00:05:00</th>\n",
       "      <td>57942.98</td>\n",
       "      <td>57902.49</td>\n",
       "      <td>58093.58</td>\n",
       "      <td>58020.43</td>\n",
       "    </tr>\n",
       "    <tr>\n",
       "      <th>2021-03-20 00:06:00</th>\n",
       "      <td>57970.36</td>\n",
       "      <td>58093.58</td>\n",
       "      <td>58020.43</td>\n",
       "      <td>57942.98</td>\n",
       "    </tr>\n",
       "    <tr>\n",
       "      <th>2021-03-20 00:07:00</th>\n",
       "      <td>57944.74</td>\n",
       "      <td>58020.43</td>\n",
       "      <td>57942.98</td>\n",
       "      <td>57970.36</td>\n",
       "    </tr>\n",
       "    <tr>\n",
       "      <th>...</th>\n",
       "      <td>...</td>\n",
       "      <td>...</td>\n",
       "      <td>...</td>\n",
       "      <td>...</td>\n",
       "    </tr>\n",
       "    <tr>\n",
       "      <th>2021-03-30 23:56:00</th>\n",
       "      <td>58686.00</td>\n",
       "      <td>58698.50</td>\n",
       "      <td>58739.95</td>\n",
       "      <td>58714.31</td>\n",
       "    </tr>\n",
       "    <tr>\n",
       "      <th>2021-03-30 23:57:00</th>\n",
       "      <td>58685.81</td>\n",
       "      <td>58739.95</td>\n",
       "      <td>58714.31</td>\n",
       "      <td>58686.00</td>\n",
       "    </tr>\n",
       "    <tr>\n",
       "      <th>2021-03-30 23:58:00</th>\n",
       "      <td>58723.84</td>\n",
       "      <td>58714.31</td>\n",
       "      <td>58686.00</td>\n",
       "      <td>58685.81</td>\n",
       "    </tr>\n",
       "    <tr>\n",
       "      <th>2021-03-30 23:59:00</th>\n",
       "      <td>58760.59</td>\n",
       "      <td>58686.00</td>\n",
       "      <td>58685.81</td>\n",
       "      <td>58723.84</td>\n",
       "    </tr>\n",
       "    <tr>\n",
       "      <th>2021-03-31 00:00:00</th>\n",
       "      <td>58778.18</td>\n",
       "      <td>58685.81</td>\n",
       "      <td>58723.84</td>\n",
       "      <td>58760.59</td>\n",
       "    </tr>\n",
       "  </tbody>\n",
       "</table>\n",
       "<p>15838 rows × 4 columns</p>\n",
       "</div>"
      ]
     },
     "execution_count": 21,
     "metadata": {},
     "output_type": "execute_result"
    }
   ],
   "execution_count": 21
  },
  {
   "metadata": {
    "ExecuteTime": {
     "end_time": "2024-12-18T16:56:46.324164Z",
     "start_time": "2024-12-18T16:56:46.316589Z"
    }
   },
   "cell_type": "code",
   "source": "X, y = df.drop(columns=[\"Close\"]), df[\"Close\"]",
   "id": "224a59a52144afab",
   "outputs": [],
   "execution_count": 22
  },
  {
   "metadata": {
    "ExecuteTime": {
     "end_time": "2024-12-18T16:56:46.579393Z",
     "start_time": "2024-12-18T16:56:46.567571Z"
    }
   },
   "cell_type": "code",
   "source": "train_X, test_X, train_y, test_y = train_test_split(X, y, test_size=0.2, shuffle=False)",
   "id": "b8940a4de8847ca7",
   "outputs": [],
   "execution_count": 23
  },
  {
   "metadata": {
    "ExecuteTime": {
     "end_time": "2024-12-18T16:56:46.639435Z",
     "start_time": "2024-12-18T16:56:46.628808Z"
    }
   },
   "cell_type": "code",
   "source": [
    "scaler = MinMaxScaler()\n",
    "train_X = scaler.fit_transform(train_X)\n",
    "test_X = scaler.transform(test_X)"
   ],
   "id": "c72209d78faa289c",
   "outputs": [],
   "execution_count": 24
  },
  {
   "metadata": {
    "ExecuteTime": {
     "end_time": "2024-12-18T16:56:46.711Z",
     "start_time": "2024-12-18T16:56:46.700475Z"
    }
   },
   "cell_type": "code",
   "source": "train_X.shape[0]",
   "id": "ab2e97609c6f987f",
   "outputs": [
    {
     "data": {
      "text/plain": [
       "12670"
      ]
     },
     "execution_count": 25,
     "metadata": {},
     "output_type": "execute_result"
    }
   ],
   "execution_count": 25
  },
  {
   "metadata": {
    "ExecuteTime": {
     "end_time": "2024-12-18T16:56:46.733625Z",
     "start_time": "2024-12-18T16:56:46.725894Z"
    }
   },
   "cell_type": "code",
   "source": "train_X.shape[1] // 3",
   "id": "94a016309cd8baea",
   "outputs": [
    {
     "data": {
      "text/plain": [
       "1"
      ]
     },
     "execution_count": 26,
     "metadata": {},
     "output_type": "execute_result"
    }
   ],
   "execution_count": 26
  },
  {
   "metadata": {
    "ExecuteTime": {
     "end_time": "2024-12-18T16:56:46.769601Z",
     "start_time": "2024-12-18T16:56:46.762715Z"
    }
   },
   "cell_type": "code",
   "source": "lag",
   "id": "499cd1751ee3bc0b",
   "outputs": [
    {
     "data": {
      "text/plain": [
       "3"
      ]
     },
     "execution_count": 27,
     "metadata": {},
     "output_type": "execute_result"
    }
   ],
   "execution_count": 27
  },
  {
   "metadata": {
    "ExecuteTime": {
     "end_time": "2024-12-18T16:56:46.828403Z",
     "start_time": "2024-12-18T16:56:46.819244Z"
    }
   },
   "cell_type": "code",
   "source": "(train_X.shape[0], lag, (train_X.shape[1] // lag))",
   "id": "9c661b54e71f161c",
   "outputs": [
    {
     "data": {
      "text/plain": [
       "(12670, 3, 1)"
      ]
     },
     "execution_count": 28,
     "metadata": {},
     "output_type": "execute_result"
    }
   ],
   "execution_count": 28
  },
  {
   "metadata": {
    "ExecuteTime": {
     "end_time": "2024-12-18T16:56:46.923097Z",
     "start_time": "2024-12-18T16:56:46.905954Z"
    }
   },
   "cell_type": "code",
   "source": [
    "train_X = train_X.reshape(train_X.shape[0], lag, (train_X.shape[1] // lag))\n",
    "test_X = test_X.reshape(test_X.shape[0], lag, (test_X.shape[1] // lag))"
   ],
   "id": "13d578ef96b7f56f",
   "outputs": [],
   "execution_count": 29
  },
  {
   "metadata": {
    "ExecuteTime": {
     "end_time": "2024-12-18T16:56:46.986528Z",
     "start_time": "2024-12-18T16:56:46.980021Z"
    }
   },
   "cell_type": "code",
   "source": "(train_X.shape[1], train_X.shape[2])",
   "id": "f055d75ab8243c90",
   "outputs": [
    {
     "data": {
      "text/plain": [
       "(3, 1)"
      ]
     },
     "execution_count": 30,
     "metadata": {},
     "output_type": "execute_result"
    }
   ],
   "execution_count": 30
  },
  {
   "metadata": {
    "ExecuteTime": {
     "end_time": "2024-12-18T16:56:47.248648Z",
     "start_time": "2024-12-18T16:56:47.078331Z"
    }
   },
   "cell_type": "code",
   "source": [
    "model = Sequential([\n",
    "    Input((train_X.shape[1], train_X.shape[2],)),\n",
    "    LSTM(64, activation=\"relu\", return_sequences=True),\n",
    "    LSTM(32, activation=\"relu\"),\n",
    "    Dense(1, activation=\"linear\")\n",
    "])"
   ],
   "id": "b9faf59126136b3f",
   "outputs": [],
   "execution_count": 31
  },
  {
   "metadata": {
    "ExecuteTime": {
     "end_time": "2024-12-18T16:56:47.302916Z",
     "start_time": "2024-12-18T16:56:47.276820Z"
    }
   },
   "cell_type": "code",
   "source": "model.summary()",
   "id": "1292f23729870de5",
   "outputs": [
    {
     "data": {
      "text/plain": [
       "\u001B[1mModel: \"sequential\"\u001B[0m\n"
      ],
      "text/html": [
       "<pre style=\"white-space:pre;overflow-x:auto;line-height:normal;font-family:Menlo,'DejaVu Sans Mono',consolas,'Courier New',monospace\"><span style=\"font-weight: bold\">Model: \"sequential\"</span>\n",
       "</pre>\n"
      ]
     },
     "metadata": {},
     "output_type": "display_data"
    },
    {
     "data": {
      "text/plain": [
       "┏━━━━━━━━━━━━━━━━━━━━━━━━━━━━━━━━━┳━━━━━━━━━━━━━━━━━━━━━━━━┳━━━━━━━━━━━━━━━┓\n",
       "┃\u001B[1m \u001B[0m\u001B[1mLayer (type)                   \u001B[0m\u001B[1m \u001B[0m┃\u001B[1m \u001B[0m\u001B[1mOutput Shape          \u001B[0m\u001B[1m \u001B[0m┃\u001B[1m \u001B[0m\u001B[1m      Param #\u001B[0m\u001B[1m \u001B[0m┃\n",
       "┡━━━━━━━━━━━━━━━━━━━━━━━━━━━━━━━━━╇━━━━━━━━━━━━━━━━━━━━━━━━╇━━━━━━━━━━━━━━━┩\n",
       "│ lstm (\u001B[38;5;33mLSTM\u001B[0m)                     │ (\u001B[38;5;45mNone\u001B[0m, \u001B[38;5;34m3\u001B[0m, \u001B[38;5;34m64\u001B[0m)          │        \u001B[38;5;34m16,896\u001B[0m │\n",
       "├─────────────────────────────────┼────────────────────────┼───────────────┤\n",
       "│ lstm_1 (\u001B[38;5;33mLSTM\u001B[0m)                   │ (\u001B[38;5;45mNone\u001B[0m, \u001B[38;5;34m32\u001B[0m)             │        \u001B[38;5;34m12,416\u001B[0m │\n",
       "├─────────────────────────────────┼────────────────────────┼───────────────┤\n",
       "│ dense (\u001B[38;5;33mDense\u001B[0m)                   │ (\u001B[38;5;45mNone\u001B[0m, \u001B[38;5;34m1\u001B[0m)              │            \u001B[38;5;34m33\u001B[0m │\n",
       "└─────────────────────────────────┴────────────────────────┴───────────────┘\n"
      ],
      "text/html": [
       "<pre style=\"white-space:pre;overflow-x:auto;line-height:normal;font-family:Menlo,'DejaVu Sans Mono',consolas,'Courier New',monospace\">┏━━━━━━━━━━━━━━━━━━━━━━━━━━━━━━━━━┳━━━━━━━━━━━━━━━━━━━━━━━━┳━━━━━━━━━━━━━━━┓\n",
       "┃<span style=\"font-weight: bold\"> Layer (type)                    </span>┃<span style=\"font-weight: bold\"> Output Shape           </span>┃<span style=\"font-weight: bold\">       Param # </span>┃\n",
       "┡━━━━━━━━━━━━━━━━━━━━━━━━━━━━━━━━━╇━━━━━━━━━━━━━━━━━━━━━━━━╇━━━━━━━━━━━━━━━┩\n",
       "│ lstm (<span style=\"color: #0087ff; text-decoration-color: #0087ff\">LSTM</span>)                     │ (<span style=\"color: #00d7ff; text-decoration-color: #00d7ff\">None</span>, <span style=\"color: #00af00; text-decoration-color: #00af00\">3</span>, <span style=\"color: #00af00; text-decoration-color: #00af00\">64</span>)          │        <span style=\"color: #00af00; text-decoration-color: #00af00\">16,896</span> │\n",
       "├─────────────────────────────────┼────────────────────────┼───────────────┤\n",
       "│ lstm_1 (<span style=\"color: #0087ff; text-decoration-color: #0087ff\">LSTM</span>)                   │ (<span style=\"color: #00d7ff; text-decoration-color: #00d7ff\">None</span>, <span style=\"color: #00af00; text-decoration-color: #00af00\">32</span>)             │        <span style=\"color: #00af00; text-decoration-color: #00af00\">12,416</span> │\n",
       "├─────────────────────────────────┼────────────────────────┼───────────────┤\n",
       "│ dense (<span style=\"color: #0087ff; text-decoration-color: #0087ff\">Dense</span>)                   │ (<span style=\"color: #00d7ff; text-decoration-color: #00d7ff\">None</span>, <span style=\"color: #00af00; text-decoration-color: #00af00\">1</span>)              │            <span style=\"color: #00af00; text-decoration-color: #00af00\">33</span> │\n",
       "└─────────────────────────────────┴────────────────────────┴───────────────┘\n",
       "</pre>\n"
      ]
     },
     "metadata": {},
     "output_type": "display_data"
    },
    {
     "data": {
      "text/plain": [
       "\u001B[1m Total params: \u001B[0m\u001B[38;5;34m29,345\u001B[0m (114.63 KB)\n"
      ],
      "text/html": [
       "<pre style=\"white-space:pre;overflow-x:auto;line-height:normal;font-family:Menlo,'DejaVu Sans Mono',consolas,'Courier New',monospace\"><span style=\"font-weight: bold\"> Total params: </span><span style=\"color: #00af00; text-decoration-color: #00af00\">29,345</span> (114.63 KB)\n",
       "</pre>\n"
      ]
     },
     "metadata": {},
     "output_type": "display_data"
    },
    {
     "data": {
      "text/plain": [
       "\u001B[1m Trainable params: \u001B[0m\u001B[38;5;34m29,345\u001B[0m (114.63 KB)\n"
      ],
      "text/html": [
       "<pre style=\"white-space:pre;overflow-x:auto;line-height:normal;font-family:Menlo,'DejaVu Sans Mono',consolas,'Courier New',monospace\"><span style=\"font-weight: bold\"> Trainable params: </span><span style=\"color: #00af00; text-decoration-color: #00af00\">29,345</span> (114.63 KB)\n",
       "</pre>\n"
      ]
     },
     "metadata": {},
     "output_type": "display_data"
    },
    {
     "data": {
      "text/plain": [
       "\u001B[1m Non-trainable params: \u001B[0m\u001B[38;5;34m0\u001B[0m (0.00 B)\n"
      ],
      "text/html": [
       "<pre style=\"white-space:pre;overflow-x:auto;line-height:normal;font-family:Menlo,'DejaVu Sans Mono',consolas,'Courier New',monospace\"><span style=\"font-weight: bold\"> Non-trainable params: </span><span style=\"color: #00af00; text-decoration-color: #00af00\">0</span> (0.00 B)\n",
       "</pre>\n"
      ]
     },
     "metadata": {},
     "output_type": "display_data"
    }
   ],
   "execution_count": 32
  },
  {
   "metadata": {
    "ExecuteTime": {
     "end_time": "2024-12-18T16:56:47.360292Z",
     "start_time": "2024-12-18T16:56:47.343373Z"
    }
   },
   "cell_type": "code",
   "source": [
    "model.compile(\n",
    "    loss=\"mean_squared_error\",\n",
    "    optimizer=\"adam\",\n",
    "    metrics=[\"mean_squared_error\"],\n",
    ")"
   ],
   "id": "31acbfff5a1beadb",
   "outputs": [],
   "execution_count": 33
  },
  {
   "metadata": {
    "ExecuteTime": {
     "end_time": "2024-12-18T17:01:54.445944Z",
     "start_time": "2024-12-18T16:56:47.391291Z"
    }
   },
   "cell_type": "code",
   "source": "history = model.fit(train_X, train_y, validation_split=0.2, epochs=64, batch_size=8)",
   "id": "72cb5047b76af213",
   "outputs": [
    {
     "name": "stdout",
     "output_type": "stream",
     "text": [
      "Epoch 1/64\n",
      "\u001B[1m1267/1267\u001B[0m \u001B[32m━━━━━━━━━━━━━━━━━━━━\u001B[0m\u001B[37m\u001B[0m \u001B[1m7s\u001B[0m 4ms/step - loss: 1341891968.0000 - mean_squared_error: 1341891968.0000 - val_loss: 193190.6562 - val_mean_squared_error: 193190.6562\n",
      "Epoch 2/64\n",
      "\u001B[1m1267/1267\u001B[0m \u001B[32m━━━━━━━━━━━━━━━━━━━━\u001B[0m\u001B[37m\u001B[0m \u001B[1m4s\u001B[0m 4ms/step - loss: 682008.6875 - mean_squared_error: 682008.6875 - val_loss: 5238.5898 - val_mean_squared_error: 5238.5898\n",
      "Epoch 3/64\n",
      "\u001B[1m1267/1267\u001B[0m \u001B[32m━━━━━━━━━━━━━━━━━━━━\u001B[0m\u001B[37m\u001B[0m \u001B[1m4s\u001B[0m 3ms/step - loss: 11604.3779 - mean_squared_error: 11604.3779 - val_loss: 5864.7275 - val_mean_squared_error: 5864.7275\n",
      "Epoch 4/64\n",
      "\u001B[1m1267/1267\u001B[0m \u001B[32m━━━━━━━━━━━━━━━━━━━━\u001B[0m\u001B[37m\u001B[0m \u001B[1m4s\u001B[0m 3ms/step - loss: 11404.3828 - mean_squared_error: 11404.3828 - val_loss: 5273.4990 - val_mean_squared_error: 5273.4990\n",
      "Epoch 5/64\n",
      "\u001B[1m1267/1267\u001B[0m \u001B[32m━━━━━━━━━━━━━━━━━━━━\u001B[0m\u001B[37m\u001B[0m \u001B[1m5s\u001B[0m 4ms/step - loss: 12607.0664 - mean_squared_error: 12607.0664 - val_loss: 5921.2021 - val_mean_squared_error: 5921.2021\n",
      "Epoch 6/64\n",
      "\u001B[1m1267/1267\u001B[0m \u001B[32m━━━━━━━━━━━━━━━━━━━━\u001B[0m\u001B[37m\u001B[0m \u001B[1m5s\u001B[0m 4ms/step - loss: 12855.9053 - mean_squared_error: 12855.9053 - val_loss: 5236.2690 - val_mean_squared_error: 5236.2690\n",
      "Epoch 7/64\n",
      "\u001B[1m1267/1267\u001B[0m \u001B[32m━━━━━━━━━━━━━━━━━━━━\u001B[0m\u001B[37m\u001B[0m \u001B[1m7s\u001B[0m 5ms/step - loss: 14017.1943 - mean_squared_error: 14017.1943 - val_loss: 5437.6362 - val_mean_squared_error: 5437.6362\n",
      "Epoch 8/64\n",
      "\u001B[1m1267/1267\u001B[0m \u001B[32m━━━━━━━━━━━━━━━━━━━━\u001B[0m\u001B[37m\u001B[0m \u001B[1m7s\u001B[0m 5ms/step - loss: 14798.0020 - mean_squared_error: 14798.0020 - val_loss: 16102.3203 - val_mean_squared_error: 16102.3203\n",
      "Epoch 9/64\n",
      "\u001B[1m1267/1267\u001B[0m \u001B[32m━━━━━━━━━━━━━━━━━━━━\u001B[0m\u001B[37m\u001B[0m \u001B[1m6s\u001B[0m 4ms/step - loss: 15398.6748 - mean_squared_error: 15398.6748 - val_loss: 16438.5723 - val_mean_squared_error: 16438.5723\n",
      "Epoch 10/64\n",
      "\u001B[1m1267/1267\u001B[0m \u001B[32m━━━━━━━━━━━━━━━━━━━━\u001B[0m\u001B[37m\u001B[0m \u001B[1m5s\u001B[0m 4ms/step - loss: 15715.1680 - mean_squared_error: 15715.1680 - val_loss: 5313.0356 - val_mean_squared_error: 5313.0356\n",
      "Epoch 11/64\n",
      "\u001B[1m1267/1267\u001B[0m \u001B[32m━━━━━━━━━━━━━━━━━━━━\u001B[0m\u001B[37m\u001B[0m \u001B[1m5s\u001B[0m 4ms/step - loss: 16907.5410 - mean_squared_error: 16907.5410 - val_loss: 10734.2607 - val_mean_squared_error: 10734.2607\n",
      "Epoch 12/64\n",
      "\u001B[1m1267/1267\u001B[0m \u001B[32m━━━━━━━━━━━━━━━━━━━━\u001B[0m\u001B[37m\u001B[0m \u001B[1m5s\u001B[0m 4ms/step - loss: 16455.2227 - mean_squared_error: 16455.2227 - val_loss: 7375.7773 - val_mean_squared_error: 7375.7773\n",
      "Epoch 13/64\n",
      "\u001B[1m1267/1267\u001B[0m \u001B[32m━━━━━━━━━━━━━━━━━━━━\u001B[0m\u001B[37m\u001B[0m \u001B[1m5s\u001B[0m 4ms/step - loss: 15781.2588 - mean_squared_error: 15781.2588 - val_loss: 10417.5391 - val_mean_squared_error: 10417.5391\n",
      "Epoch 14/64\n",
      "\u001B[1m1267/1267\u001B[0m \u001B[32m━━━━━━━━━━━━━━━━━━━━\u001B[0m\u001B[37m\u001B[0m \u001B[1m5s\u001B[0m 4ms/step - loss: 17051.4629 - mean_squared_error: 17051.4629 - val_loss: 9419.5703 - val_mean_squared_error: 9419.5703\n",
      "Epoch 15/64\n",
      "\u001B[1m1267/1267\u001B[0m \u001B[32m━━━━━━━━━━━━━━━━━━━━\u001B[0m\u001B[37m\u001B[0m \u001B[1m5s\u001B[0m 4ms/step - loss: 15867.4834 - mean_squared_error: 15867.4834 - val_loss: 6659.8257 - val_mean_squared_error: 6659.8257\n",
      "Epoch 16/64\n",
      "\u001B[1m1267/1267\u001B[0m \u001B[32m━━━━━━━━━━━━━━━━━━━━\u001B[0m\u001B[37m\u001B[0m \u001B[1m5s\u001B[0m 4ms/step - loss: 15848.7520 - mean_squared_error: 15848.7520 - val_loss: 5272.0957 - val_mean_squared_error: 5272.0957\n",
      "Epoch 17/64\n",
      "\u001B[1m1267/1267\u001B[0m \u001B[32m━━━━━━━━━━━━━━━━━━━━\u001B[0m\u001B[37m\u001B[0m \u001B[1m4s\u001B[0m 3ms/step - loss: 16179.4443 - mean_squared_error: 16179.4443 - val_loss: 5337.4814 - val_mean_squared_error: 5337.4814\n",
      "Epoch 18/64\n",
      "\u001B[1m1267/1267\u001B[0m \u001B[32m━━━━━━━━━━━━━━━━━━━━\u001B[0m\u001B[37m\u001B[0m \u001B[1m4s\u001B[0m 3ms/step - loss: 16412.0449 - mean_squared_error: 16412.0449 - val_loss: 5362.5137 - val_mean_squared_error: 5362.5137\n",
      "Epoch 19/64\n",
      "\u001B[1m1267/1267\u001B[0m \u001B[32m━━━━━━━━━━━━━━━━━━━━\u001B[0m\u001B[37m\u001B[0m \u001B[1m4s\u001B[0m 3ms/step - loss: 18347.7441 - mean_squared_error: 18347.7441 - val_loss: 5263.1519 - val_mean_squared_error: 5263.1519\n",
      "Epoch 20/64\n",
      "\u001B[1m1267/1267\u001B[0m \u001B[32m━━━━━━━━━━━━━━━━━━━━\u001B[0m\u001B[37m\u001B[0m \u001B[1m5s\u001B[0m 4ms/step - loss: 15679.7832 - mean_squared_error: 15679.7832 - val_loss: 46037.4023 - val_mean_squared_error: 46037.4023\n",
      "Epoch 21/64\n",
      "\u001B[1m1267/1267\u001B[0m \u001B[32m━━━━━━━━━━━━━━━━━━━━\u001B[0m\u001B[37m\u001B[0m \u001B[1m5s\u001B[0m 4ms/step - loss: 17256.7285 - mean_squared_error: 17256.7285 - val_loss: 12093.0791 - val_mean_squared_error: 12093.0791\n",
      "Epoch 22/64\n",
      "\u001B[1m1267/1267\u001B[0m \u001B[32m━━━━━━━━━━━━━━━━━━━━\u001B[0m\u001B[37m\u001B[0m \u001B[1m5s\u001B[0m 4ms/step - loss: 16633.5840 - mean_squared_error: 16633.5840 - val_loss: 5221.1436 - val_mean_squared_error: 5221.1436\n",
      "Epoch 23/64\n",
      "\u001B[1m1267/1267\u001B[0m \u001B[32m━━━━━━━━━━━━━━━━━━━━\u001B[0m\u001B[37m\u001B[0m \u001B[1m5s\u001B[0m 4ms/step - loss: 16939.4258 - mean_squared_error: 16939.4258 - val_loss: 10156.6689 - val_mean_squared_error: 10156.6689\n",
      "Epoch 24/64\n",
      "\u001B[1m1267/1267\u001B[0m \u001B[32m━━━━━━━━━━━━━━━━━━━━\u001B[0m\u001B[37m\u001B[0m \u001B[1m5s\u001B[0m 4ms/step - loss: 16491.4551 - mean_squared_error: 16491.4551 - val_loss: 5486.4829 - val_mean_squared_error: 5486.4829\n",
      "Epoch 25/64\n",
      "\u001B[1m1267/1267\u001B[0m \u001B[32m━━━━━━━━━━━━━━━━━━━━\u001B[0m\u001B[37m\u001B[0m \u001B[1m5s\u001B[0m 4ms/step - loss: 16256.5039 - mean_squared_error: 16256.5039 - val_loss: 5168.3989 - val_mean_squared_error: 5168.3989\n",
      "Epoch 26/64\n",
      "\u001B[1m1267/1267\u001B[0m \u001B[32m━━━━━━━━━━━━━━━━━━━━\u001B[0m\u001B[37m\u001B[0m \u001B[1m5s\u001B[0m 4ms/step - loss: 17395.9297 - mean_squared_error: 17395.9297 - val_loss: 9424.5059 - val_mean_squared_error: 9424.5059\n",
      "Epoch 27/64\n",
      "\u001B[1m1267/1267\u001B[0m \u001B[32m━━━━━━━━━━━━━━━━━━━━\u001B[0m\u001B[37m\u001B[0m \u001B[1m4s\u001B[0m 3ms/step - loss: 16209.8291 - mean_squared_error: 16209.8291 - val_loss: 10033.1133 - val_mean_squared_error: 10033.1133\n",
      "Epoch 28/64\n",
      "\u001B[1m1267/1267\u001B[0m \u001B[32m━━━━━━━━━━━━━━━━━━━━\u001B[0m\u001B[37m\u001B[0m \u001B[1m4s\u001B[0m 4ms/step - loss: 16017.0078 - mean_squared_error: 16017.0078 - val_loss: 5557.7681 - val_mean_squared_error: 5557.7681\n",
      "Epoch 29/64\n",
      "\u001B[1m1267/1267\u001B[0m \u001B[32m━━━━━━━━━━━━━━━━━━━━\u001B[0m\u001B[37m\u001B[0m \u001B[1m5s\u001B[0m 4ms/step - loss: 15658.0312 - mean_squared_error: 15658.0312 - val_loss: 6143.6787 - val_mean_squared_error: 6143.6787\n",
      "Epoch 30/64\n",
      "\u001B[1m1267/1267\u001B[0m \u001B[32m━━━━━━━━━━━━━━━━━━━━\u001B[0m\u001B[37m\u001B[0m \u001B[1m5s\u001B[0m 4ms/step - loss: 16219.4570 - mean_squared_error: 16219.4570 - val_loss: 10016.0732 - val_mean_squared_error: 10016.0732\n",
      "Epoch 31/64\n",
      "\u001B[1m1267/1267\u001B[0m \u001B[32m━━━━━━━━━━━━━━━━━━━━\u001B[0m\u001B[37m\u001B[0m \u001B[1m5s\u001B[0m 4ms/step - loss: 15457.6416 - mean_squared_error: 15457.6416 - val_loss: 8790.5537 - val_mean_squared_error: 8790.5537\n",
      "Epoch 32/64\n",
      "\u001B[1m1267/1267\u001B[0m \u001B[32m━━━━━━━━━━━━━━━━━━━━\u001B[0m\u001B[37m\u001B[0m \u001B[1m5s\u001B[0m 4ms/step - loss: 16090.3281 - mean_squared_error: 16090.3281 - val_loss: 5221.9956 - val_mean_squared_error: 5221.9956\n",
      "Epoch 33/64\n",
      "\u001B[1m1267/1267\u001B[0m \u001B[32m━━━━━━━━━━━━━━━━━━━━\u001B[0m\u001B[37m\u001B[0m \u001B[1m5s\u001B[0m 4ms/step - loss: 16401.8965 - mean_squared_error: 16401.8965 - val_loss: 5652.8730 - val_mean_squared_error: 5652.8730\n",
      "Epoch 34/64\n",
      "\u001B[1m1267/1267\u001B[0m \u001B[32m━━━━━━━━━━━━━━━━━━━━\u001B[0m\u001B[37m\u001B[0m \u001B[1m5s\u001B[0m 4ms/step - loss: 15923.3291 - mean_squared_error: 15923.3291 - val_loss: 41047.2188 - val_mean_squared_error: 41047.2188\n",
      "Epoch 35/64\n",
      "\u001B[1m1267/1267\u001B[0m \u001B[32m━━━━━━━━━━━━━━━━━━━━\u001B[0m\u001B[37m\u001B[0m \u001B[1m5s\u001B[0m 4ms/step - loss: 17233.9180 - mean_squared_error: 17233.9180 - val_loss: 19422.4219 - val_mean_squared_error: 19422.4219\n",
      "Epoch 36/64\n",
      "\u001B[1m1267/1267\u001B[0m \u001B[32m━━━━━━━━━━━━━━━━━━━━\u001B[0m\u001B[37m\u001B[0m \u001B[1m5s\u001B[0m 4ms/step - loss: 15758.9883 - mean_squared_error: 15758.9883 - val_loss: 6096.5752 - val_mean_squared_error: 6096.5752\n",
      "Epoch 37/64\n",
      "\u001B[1m1267/1267\u001B[0m \u001B[32m━━━━━━━━━━━━━━━━━━━━\u001B[0m\u001B[37m\u001B[0m \u001B[1m5s\u001B[0m 4ms/step - loss: 16711.4688 - mean_squared_error: 16711.4688 - val_loss: 7298.5835 - val_mean_squared_error: 7298.5835\n",
      "Epoch 38/64\n",
      "\u001B[1m1267/1267\u001B[0m \u001B[32m━━━━━━━━━━━━━━━━━━━━\u001B[0m\u001B[37m\u001B[0m \u001B[1m5s\u001B[0m 4ms/step - loss: 15315.7363 - mean_squared_error: 15315.7363 - val_loss: 5470.4702 - val_mean_squared_error: 5470.4702\n",
      "Epoch 39/64\n",
      "\u001B[1m1267/1267\u001B[0m \u001B[32m━━━━━━━━━━━━━━━━━━━━\u001B[0m\u001B[37m\u001B[0m \u001B[1m5s\u001B[0m 4ms/step - loss: 15615.3496 - mean_squared_error: 15615.3496 - val_loss: 29007.1719 - val_mean_squared_error: 29007.1719\n",
      "Epoch 40/64\n",
      "\u001B[1m1267/1267\u001B[0m \u001B[32m━━━━━━━━━━━━━━━━━━━━\u001B[0m\u001B[37m\u001B[0m \u001B[1m4s\u001B[0m 3ms/step - loss: 15997.1924 - mean_squared_error: 15997.1924 - val_loss: 8505.5479 - val_mean_squared_error: 8505.5479\n",
      "Epoch 41/64\n",
      "\u001B[1m1267/1267\u001B[0m \u001B[32m━━━━━━━━━━━━━━━━━━━━\u001B[0m\u001B[37m\u001B[0m \u001B[1m4s\u001B[0m 3ms/step - loss: 17563.5957 - mean_squared_error: 17563.5957 - val_loss: 5180.1714 - val_mean_squared_error: 5180.1714\n",
      "Epoch 42/64\n",
      "\u001B[1m1267/1267\u001B[0m \u001B[32m━━━━━━━━━━━━━━━━━━━━\u001B[0m\u001B[37m\u001B[0m \u001B[1m4s\u001B[0m 3ms/step - loss: 16855.2188 - mean_squared_error: 16855.2188 - val_loss: 22106.0566 - val_mean_squared_error: 22106.0566\n",
      "Epoch 43/64\n",
      "\u001B[1m1267/1267\u001B[0m \u001B[32m━━━━━━━━━━━━━━━━━━━━\u001B[0m\u001B[37m\u001B[0m \u001B[1m5s\u001B[0m 4ms/step - loss: 17627.7227 - mean_squared_error: 17627.7227 - val_loss: 31972.8555 - val_mean_squared_error: 31972.8555\n",
      "Epoch 44/64\n",
      "\u001B[1m1267/1267\u001B[0m \u001B[32m━━━━━━━━━━━━━━━━━━━━\u001B[0m\u001B[37m\u001B[0m \u001B[1m5s\u001B[0m 4ms/step - loss: 18016.7852 - mean_squared_error: 18016.7852 - val_loss: 5409.7998 - val_mean_squared_error: 5409.7998\n",
      "Epoch 45/64\n",
      "\u001B[1m1267/1267\u001B[0m \u001B[32m━━━━━━━━━━━━━━━━━━━━\u001B[0m\u001B[37m\u001B[0m \u001B[1m5s\u001B[0m 4ms/step - loss: 15437.0322 - mean_squared_error: 15437.0322 - val_loss: 18572.0527 - val_mean_squared_error: 18572.0527\n",
      "Epoch 46/64\n",
      "\u001B[1m1267/1267\u001B[0m \u001B[32m━━━━━━━━━━━━━━━━━━━━\u001B[0m\u001B[37m\u001B[0m \u001B[1m5s\u001B[0m 4ms/step - loss: 16043.7539 - mean_squared_error: 16043.7539 - val_loss: 6671.0693 - val_mean_squared_error: 6671.0693\n",
      "Epoch 47/64\n",
      "\u001B[1m1267/1267\u001B[0m \u001B[32m━━━━━━━━━━━━━━━━━━━━\u001B[0m\u001B[37m\u001B[0m \u001B[1m5s\u001B[0m 4ms/step - loss: 18726.4121 - mean_squared_error: 18726.4121 - val_loss: 8898.9336 - val_mean_squared_error: 8898.9336\n",
      "Epoch 48/64\n",
      "\u001B[1m1267/1267\u001B[0m \u001B[32m━━━━━━━━━━━━━━━━━━━━\u001B[0m\u001B[37m\u001B[0m \u001B[1m5s\u001B[0m 4ms/step - loss: 16137.8418 - mean_squared_error: 16137.8418 - val_loss: 5151.8364 - val_mean_squared_error: 5151.8364\n",
      "Epoch 49/64\n",
      "\u001B[1m1267/1267\u001B[0m \u001B[32m━━━━━━━━━━━━━━━━━━━━\u001B[0m\u001B[37m\u001B[0m \u001B[1m5s\u001B[0m 4ms/step - loss: 15392.5215 - mean_squared_error: 15392.5215 - val_loss: 16177.2656 - val_mean_squared_error: 16177.2656\n",
      "Epoch 50/64\n",
      "\u001B[1m1267/1267\u001B[0m \u001B[32m━━━━━━━━━━━━━━━━━━━━\u001B[0m\u001B[37m\u001B[0m \u001B[1m4s\u001B[0m 4ms/step - loss: 17923.7480 - mean_squared_error: 17923.7480 - val_loss: 9122.7100 - val_mean_squared_error: 9122.7100\n",
      "Epoch 51/64\n",
      "\u001B[1m1267/1267\u001B[0m \u001B[32m━━━━━━━━━━━━━━━━━━━━\u001B[0m\u001B[37m\u001B[0m \u001B[1m5s\u001B[0m 4ms/step - loss: 15697.9717 - mean_squared_error: 15697.9717 - val_loss: 9930.6406 - val_mean_squared_error: 9930.6406\n",
      "Epoch 52/64\n",
      "\u001B[1m1267/1267\u001B[0m \u001B[32m━━━━━━━━━━━━━━━━━━━━\u001B[0m\u001B[37m\u001B[0m \u001B[1m5s\u001B[0m 4ms/step - loss: 17030.2305 - mean_squared_error: 17030.2305 - val_loss: 15430.0381 - val_mean_squared_error: 15430.0381\n",
      "Epoch 53/64\n",
      "\u001B[1m1267/1267\u001B[0m \u001B[32m━━━━━━━━━━━━━━━━━━━━\u001B[0m\u001B[37m\u001B[0m \u001B[1m5s\u001B[0m 4ms/step - loss: 18836.3438 - mean_squared_error: 18836.3438 - val_loss: 12425.0381 - val_mean_squared_error: 12425.0381\n",
      "Epoch 54/64\n",
      "\u001B[1m1267/1267\u001B[0m \u001B[32m━━━━━━━━━━━━━━━━━━━━\u001B[0m\u001B[37m\u001B[0m \u001B[1m5s\u001B[0m 4ms/step - loss: 15761.4170 - mean_squared_error: 15761.4170 - val_loss: 40617.5547 - val_mean_squared_error: 40617.5547\n",
      "Epoch 55/64\n",
      "\u001B[1m1267/1267\u001B[0m \u001B[32m━━━━━━━━━━━━━━━━━━━━\u001B[0m\u001B[37m\u001B[0m \u001B[1m5s\u001B[0m 4ms/step - loss: 19065.9785 - mean_squared_error: 19065.9785 - val_loss: 9075.4463 - val_mean_squared_error: 9075.4463\n",
      "Epoch 56/64\n",
      "\u001B[1m1267/1267\u001B[0m \u001B[32m━━━━━━━━━━━━━━━━━━━━\u001B[0m\u001B[37m\u001B[0m \u001B[1m4s\u001B[0m 3ms/step - loss: 17065.7930 - mean_squared_error: 17065.7930 - val_loss: 5256.3994 - val_mean_squared_error: 5256.3994\n",
      "Epoch 57/64\n",
      "\u001B[1m1267/1267\u001B[0m \u001B[32m━━━━━━━━━━━━━━━━━━━━\u001B[0m\u001B[37m\u001B[0m \u001B[1m5s\u001B[0m 4ms/step - loss: 16935.6270 - mean_squared_error: 16935.6270 - val_loss: 5167.6294 - val_mean_squared_error: 5167.6294\n",
      "Epoch 58/64\n",
      "\u001B[1m1267/1267\u001B[0m \u001B[32m━━━━━━━━━━━━━━━━━━━━\u001B[0m\u001B[37m\u001B[0m \u001B[1m5s\u001B[0m 4ms/step - loss: 16521.4883 - mean_squared_error: 16521.4883 - val_loss: 5144.0684 - val_mean_squared_error: 5144.0684\n",
      "Epoch 59/64\n",
      "\u001B[1m1267/1267\u001B[0m \u001B[32m━━━━━━━━━━━━━━━━━━━━\u001B[0m\u001B[37m\u001B[0m \u001B[1m5s\u001B[0m 4ms/step - loss: 16250.4062 - mean_squared_error: 16250.4062 - val_loss: 6358.4248 - val_mean_squared_error: 6358.4248\n",
      "Epoch 60/64\n",
      "\u001B[1m1267/1267\u001B[0m \u001B[32m━━━━━━━━━━━━━━━━━━━━\u001B[0m\u001B[37m\u001B[0m \u001B[1m5s\u001B[0m 4ms/step - loss: 17369.4902 - mean_squared_error: 17369.4902 - val_loss: 5823.4468 - val_mean_squared_error: 5823.4468\n",
      "Epoch 61/64\n",
      "\u001B[1m1267/1267\u001B[0m \u001B[32m━━━━━━━━━━━━━━━━━━━━\u001B[0m\u001B[37m\u001B[0m \u001B[1m4s\u001B[0m 4ms/step - loss: 15289.5566 - mean_squared_error: 15289.5566 - val_loss: 9541.3896 - val_mean_squared_error: 9541.3896\n",
      "Epoch 62/64\n",
      "\u001B[1m1267/1267\u001B[0m \u001B[32m━━━━━━━━━━━━━━━━━━━━\u001B[0m\u001B[37m\u001B[0m \u001B[1m5s\u001B[0m 4ms/step - loss: 14721.9580 - mean_squared_error: 14721.9580 - val_loss: 8791.6348 - val_mean_squared_error: 8791.6348\n",
      "Epoch 63/64\n",
      "\u001B[1m1267/1267\u001B[0m \u001B[32m━━━━━━━━━━━━━━━━━━━━\u001B[0m\u001B[37m\u001B[0m \u001B[1m5s\u001B[0m 4ms/step - loss: 16836.9160 - mean_squared_error: 16836.9160 - val_loss: 10640.9863 - val_mean_squared_error: 10640.9863\n",
      "Epoch 64/64\n",
      "\u001B[1m1267/1267\u001B[0m \u001B[32m━━━━━━━━━━━━━━━━━━━━\u001B[0m\u001B[37m\u001B[0m \u001B[1m5s\u001B[0m 4ms/step - loss: 15801.1465 - mean_squared_error: 15801.1465 - val_loss: 16514.9004 - val_mean_squared_error: 16514.9004\n"
     ]
    }
   ],
   "execution_count": 34
  },
  {
   "metadata": {
    "ExecuteTime": {
     "end_time": "2024-12-18T17:01:54.729779Z",
     "start_time": "2024-12-18T17:01:54.528929Z"
    }
   },
   "cell_type": "code",
   "source": [
    "sns.lineplot(history.history['loss'][1:], label='loss')\n",
    "sns.lineplot(history.history['val_loss'][1:], label='val_loss')"
   ],
   "id": "2c59e17a8a71435e",
   "outputs": [
    {
     "data": {
      "text/plain": [
       "<Axes: >"
      ]
     },
     "execution_count": 35,
     "metadata": {},
     "output_type": "execute_result"
    },
    {
     "data": {
      "text/plain": [
       "<Figure size 640x480 with 1 Axes>"
      ],
      "image/png": "[encoded data removed]"
     },
     "metadata": {},
     "output_type": "display_data"
    }
   ],
   "execution_count": 35
  },
  {
   "metadata": {
    "ExecuteTime": {
     "end_time": "2024-12-18T17:02:04.672630Z",
     "start_time": "2024-12-18T17:02:04.330489Z"
    }
   },
   "cell_type": "code",
   "source": "pred_y = model.predict(test_X)",
   "id": "cbb289418f994621",
   "outputs": [
    {
     "name": "stdout",
     "output_type": "stream",
     "text": [
      "\u001B[1m99/99\u001B[0m \u001B[32m━━━━━━━━━━━━━━━━━━━━\u001B[0m\u001B[37m\u001B[0m \u001B[1m0s\u001B[0m 2ms/step\n"
     ]
    }
   ],
   "execution_count": 38
  },
  {
   "metadata": {
    "ExecuteTime": {
     "end_time": "2024-12-18T17:02:06.442409Z",
     "start_time": "2024-12-18T17:02:06.434598Z"
    }
   },
   "cell_type": "code",
   "source": "r2_score(test_y, pred_y)",
   "id": "3069cfd032754c93",
   "outputs": [
    {
     "data": {
      "text/plain": [
       "0.9913549687109069"
      ]
     },
     "execution_count": 39,
     "metadata": {},
     "output_type": "execute_result"
    }
   ],
   "execution_count": 39
  }
 ],
 "metadata": {
  "kernelspec": {
   "display_name": "Python 3",
   "language": "python",
   "name": "python3"
  },
  "language_info": {
   "codemirror_mode": {
    "name": "ipython",
    "version": 2
   },
   "file_extension": ".py",
   "mimetype": "text/x-python",
   "name": "python",
   "nbconvert_exporter": "python",
   "pygments_lexer": "ipython2",
   "version": "2.7.6"
  }
 },
 "nbformat": 4,
 "nbformat_minor": 5
}
